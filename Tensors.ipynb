{
 "cells": [
  {
   "cell_type": "markdown",
   "id": "c68b11db",
   "metadata": {},
   "source": [
    "#                    Tensors"
   ]
  },
  {
   "cell_type": "markdown",
   "id": "fccc1596",
   "metadata": {},
   "source": [
    "## 0-D TENSORS/SCALER"
   ]
  },
  {
   "cell_type": "code",
   "execution_count": 28,
   "id": "385eb366",
   "metadata": {},
   "outputs": [],
   "source": [
    "import numpy as np"
   ]
  },
  {
   "cell_type": "code",
   "execution_count": 29,
   "id": "8ab7ee2f",
   "metadata": {},
   "outputs": [],
   "source": [
    "a=np.array(2) #initialize of --> a"
   ]
  },
  {
   "cell_type": "code",
   "execution_count": 30,
   "id": "b6e81092",
   "metadata": {},
   "outputs": [
    {
     "data": {
      "text/plain": [
       "array(2)"
      ]
     },
     "execution_count": 30,
     "metadata": {},
     "output_type": "execute_result"
    }
   ],
   "source": [
    "a #print a"
   ]
  },
  {
   "cell_type": "code",
   "execution_count": 31,
   "id": "3a842018",
   "metadata": {},
   "outputs": [
    {
     "name": "stdout",
     "output_type": "stream",
     "text": [
      "No Of Dimension : 0\n"
     ]
    }
   ],
   "source": [
    "print(\"No Of Dimension :\",a.ndim)"
   ]
  },
  {
   "cell_type": "markdown",
   "id": "d18ce5d4",
   "metadata": {},
   "source": [
    "## 1-D TENSORS/VECTOR"
   ]
  },
  {
   "cell_type": "code",
   "execution_count": 38,
   "id": "f21c7e04",
   "metadata": {},
   "outputs": [],
   "source": [
    "b = np.array([1,5,6,9,8,2,4]) #initialize of --> b"
   ]
  },
  {
   "cell_type": "code",
   "execution_count": 33,
   "id": "cdca56d8",
   "metadata": {},
   "outputs": [
    {
     "data": {
      "text/plain": [
       "array([1, 5, 6, 9, 8, 2, 4])"
      ]
     },
     "execution_count": 33,
     "metadata": {},
     "output_type": "execute_result"
    }
   ],
   "source": [
    "b #print b"
   ]
  },
  {
   "cell_type": "code",
   "execution_count": 34,
   "id": "ed14d0cc",
   "metadata": {},
   "outputs": [
    {
     "name": "stdout",
     "output_type": "stream",
     "text": [
      "No Of Dimension : 1\n"
     ]
    }
   ],
   "source": [
    "print(\"No Of Dimension :\",b.ndim)"
   ]
  },
  {
   "cell_type": "markdown",
   "id": "29db0976",
   "metadata": {},
   "source": [
    "## 2-D TENSORS/MATRICES"
   ]
  },
  {
   "cell_type": "code",
   "execution_count": 35,
   "id": "bbf7ffb8",
   "metadata": {},
   "outputs": [],
   "source": [
    "c = np.array([ [1,2,3,9,5] , [1,8,5,4,7] , [2,3,6,5,4] , [7,8,2,2,3] ]) #initialize of --> c"
   ]
  },
  {
   "cell_type": "code",
   "execution_count": 36,
   "id": "f30ebb22",
   "metadata": {},
   "outputs": [
    {
     "data": {
      "text/plain": [
       "array([[1, 2, 3, 9, 5],\n",
       "       [1, 8, 5, 4, 7],\n",
       "       [2, 3, 6, 5, 4],\n",
       "       [7, 8, 2, 2, 3]])"
      ]
     },
     "execution_count": 36,
     "metadata": {},
     "output_type": "execute_result"
    }
   ],
   "source": [
    "c #print c"
   ]
  },
  {
   "cell_type": "code",
   "execution_count": 37,
   "id": "0259c6a3",
   "metadata": {},
   "outputs": [
    {
     "name": "stdout",
     "output_type": "stream",
     "text": [
      "No Of Dimension : 2\n"
     ]
    }
   ],
   "source": [
    "print(\"No Of Dimension :\",c.ndim)"
   ]
  },
  {
   "cell_type": "markdown",
   "id": "d46e28b2",
   "metadata": {},
   "source": [
    "## 3-D TENSORS"
   ]
  },
  {
   "cell_type": "code",
   "execution_count": 40,
   "id": "abe233a6",
   "metadata": {},
   "outputs": [],
   "source": [
    "d = np.array([ [[1,2,3],[7,8,6]] , [[4,6,9],[4,5,2]] , [[4,7,8],[2,3,9]] ]) #initialize of --> d"
   ]
  },
  {
   "cell_type": "code",
   "execution_count": 41,
   "id": "e9bfc331",
   "metadata": {},
   "outputs": [
    {
     "data": {
      "text/plain": [
       "array([[[1, 2, 3],\n",
       "        [7, 8, 6]],\n",
       "\n",
       "       [[4, 6, 9],\n",
       "        [4, 5, 2]],\n",
       "\n",
       "       [[4, 7, 8],\n",
       "        [2, 3, 9]]])"
      ]
     },
     "execution_count": 41,
     "metadata": {},
     "output_type": "execute_result"
    }
   ],
   "source": [
    "d #print d"
   ]
  },
  {
   "cell_type": "code",
   "execution_count": 42,
   "id": "39669043",
   "metadata": {},
   "outputs": [
    {
     "name": "stdout",
     "output_type": "stream",
     "text": [
      "No Of Dimension : 3\n"
     ]
    }
   ],
   "source": [
    "print(\"No Of Dimension :\",d.ndim)"
   ]
  },
  {
   "cell_type": "markdown",
   "id": "f611f849",
   "metadata": {},
   "source": [
    "## 4-D TENSORS"
   ]
  },
  {
   "cell_type": "code",
   "execution_count": 58,
   "id": "fbe4d484",
   "metadata": {},
   "outputs": [],
   "source": [
    "e = np.array([ [[[1,2,5],[4,5,8],[7,5,2]]] , [[[1,8,6],[8,5,2],[7,5,2]]]  , [[[5,7,58],[25,25,41],[73,54,12]]] ])"
   ]
  },
  {
   "cell_type": "code",
   "execution_count": 59,
   "id": "7bdbe871",
   "metadata": {},
   "outputs": [
    {
     "data": {
      "text/plain": [
       "array([[[[ 1,  2,  5],\n",
       "         [ 4,  5,  8],\n",
       "         [ 7,  5,  2]]],\n",
       "\n",
       "\n",
       "       [[[ 1,  8,  6],\n",
       "         [ 8,  5,  2],\n",
       "         [ 7,  5,  2]]],\n",
       "\n",
       "\n",
       "       [[[ 5,  7, 58],\n",
       "         [25, 25, 41],\n",
       "         [73, 54, 12]]]])"
      ]
     },
     "execution_count": 59,
     "metadata": {},
     "output_type": "execute_result"
    }
   ],
   "source": [
    "e #print e"
   ]
  },
  {
   "cell_type": "code",
   "execution_count": 60,
   "id": "645343fe",
   "metadata": {},
   "outputs": [
    {
     "name": "stdout",
     "output_type": "stream",
     "text": [
      "No Of Dimension : 4\n"
     ]
    }
   ],
   "source": [
    "print(\"No Of Dimension :\",e.ndim)"
   ]
  },
  {
   "cell_type": "markdown",
   "id": "dc5909fd",
   "metadata": {},
   "source": [
    "## 5-D TENSORS"
   ]
  },
  {
   "cell_type": "code",
   "execution_count": 61,
   "id": "eba9a2df",
   "metadata": {},
   "outputs": [],
   "source": [
    "f = np.array([ [[[[8,5,12],[5,3,7],[2,2,0]]]] , [[[[1,9,7],[1,4,2],[4,6,9]]]]  , [[[[54,7,8],[2,50,12],[30,47,78]]]] ])"
   ]
  },
  {
   "cell_type": "code",
   "execution_count": 62,
   "id": "3ab43859",
   "metadata": {},
   "outputs": [
    {
     "data": {
      "text/plain": [
       "array([[[[[ 8,  5, 12],\n",
       "          [ 5,  3,  7],\n",
       "          [ 2,  2,  0]]]],\n",
       "\n",
       "\n",
       "\n",
       "       [[[[ 1,  9,  7],\n",
       "          [ 1,  4,  2],\n",
       "          [ 4,  6,  9]]]],\n",
       "\n",
       "\n",
       "\n",
       "       [[[[54,  7,  8],\n",
       "          [ 2, 50, 12],\n",
       "          [30, 47, 78]]]]])"
      ]
     },
     "execution_count": 62,
     "metadata": {},
     "output_type": "execute_result"
    }
   ],
   "source": [
    "f #print f"
   ]
  },
  {
   "cell_type": "code",
   "execution_count": 57,
   "id": "f6778a66",
   "metadata": {},
   "outputs": [
    {
     "name": "stdout",
     "output_type": "stream",
     "text": [
      "No Of Dimension : 5\n"
     ]
    }
   ],
   "source": [
    "print(\"No Of Dimension :\",f.ndim)"
   ]
  },
  {
   "cell_type": "code",
   "execution_count": null,
   "id": "ecbafa68",
   "metadata": {},
   "outputs": [],
   "source": []
  }
 ],
 "metadata": {
  "kernelspec": {
   "display_name": "Python 3 (ipykernel)",
   "language": "python",
   "name": "python3"
  },
  "language_info": {
   "codemirror_mode": {
    "name": "ipython",
    "version": 3
   },
   "file_extension": ".py",
   "mimetype": "text/x-python",
   "name": "python",
   "nbconvert_exporter": "python",
   "pygments_lexer": "ipython3",
   "version": "3.9.5"
  }
 },
 "nbformat": 4,
 "nbformat_minor": 5
}
